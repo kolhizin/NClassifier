{
 "cells": [
  {
   "cell_type": "code",
   "execution_count": 68,
   "metadata": {},
   "outputs": [
    {
     "data": {
      "text/plain": [
       "<module 'utils.sampletools' from 'd:\\\\Programming\\\\NClassifier\\\\dev_tests\\\\tf01_cnn_detect\\\\utils\\\\sampletools.py'>"
      ]
     },
     "execution_count": 68,
     "metadata": {},
     "output_type": "execute_result"
    }
   ],
   "source": [
    "import numpy as np\n",
    "import tensorflow as tf\n",
    "import matplotlib.pyplot as plt\n",
    "import sklearn.metrics\n",
    "import cv2\n",
    "import pickle\n",
    "import os, os.path\n",
    "import importlib\n",
    "\n",
    "import utils.sampletools as smpl\n",
    "\n",
    "importlib.reload(smpl)"
   ]
  },
  {
   "cell_type": "code",
   "execution_count": 13,
   "metadata": {},
   "outputs": [],
   "source": [
    "def generate_batches_from_image_sample(image, sample, size_chain, batch_size, shuffle=True):\n",
    "    mipimgs = smpl.generate_image_miplevels(image, size_chain)\n",
    "    for s in smpl.shuffle_batches(sample, batch_size=batch_size, shuffle=shuffle):\n",
    "        features = smpl.extract_features_from_samples_and_mipmaps(s, mipimgs)\n",
    "        targets = smpl.extract_targets_from_samples(s)\n",
    "        yield (features, targets)\n",
    "        \n",
    "def generate_batches_from_file(path, fname, batch_size, shuffle=True):\n",
    "    with open(os.path.join(path,fname), 'rb') as f:\n",
    "        sample, size_chain, img_fname = pickle.load(f)\n",
    "    image = cv2.cvtColor(cv2.imread(os.path.join(path,img_fname)), cv2.COLOR_BGR2RGB)\n",
    "    for s in generate_batches_from_image_sample(image, sample, size_chain, batch_size, shuffle=shuffle):\n",
    "        yield s"
   ]
  },
  {
   "cell_type": "code",
   "execution_count": 10,
   "metadata": {},
   "outputs": [],
   "source": [
    "tf.reset_default_graph()\n",
    "\n",
    "tf_input = tf.placeholder(shape=(None,16,16,3),dtype=tf.float32)\n",
    "tf_labels = tf.placeholder(shape=(None,1),dtype=tf.float32)\n",
    "\n",
    "tf_y = tf.concat([tf_labels, 1-tf_labels], axis=1)\n",
    "tf_x = tf.reshape(tf_input, shape=(-1, 16*16*3))\n",
    "tf_z = tf.layers.dense(tf_x, 2)\n",
    "\n",
    "tf_p = tf.nn.softmax(tf_z)\n",
    "\n",
    "tf_loss = tf.nn.softmax_cross_entropy_with_logits_v2(labels=tf_y, logits=tf_z)\n",
    "tf_train = tf.train.AdamOptimizer(1e-3).minimize(tf_loss)\n",
    "#94 gini"
   ]
  },
  {
   "cell_type": "code",
   "execution_count": 88,
   "metadata": {},
   "outputs": [],
   "source": [
    "tf.reset_default_graph()\n",
    "\n",
    "tf_input = tf.placeholder(shape=(None,16,16,3),dtype=tf.float32)\n",
    "tf_labels = tf.placeholder(shape=(None,1),dtype=tf.float32)\n",
    "\n",
    "tf_y = tf.concat([tf_labels, 1-tf_labels], axis=1)\n",
    "tf_x = tf.reshape(tf_input, shape=(-1, 16*16*3))\n",
    "tf_z0 = tf.layers.dense(tf_x, 10, activation=tf.nn.elu)\n",
    "tf_z = tf.layers.dense(tf_z0, 2)\n",
    "\n",
    "tf_p = tf.nn.softmax(tf_z)\n",
    "\n",
    "tf_loss = tf.nn.softmax_cross_entropy_with_logits_v2(labels=tf_y, logits=tf_z)\n",
    "tf_train = tf.train.AdamOptimizer(1e-3).minimize(tf_loss)\n",
    "#98 gini"
   ]
  },
  {
   "cell_type": "code",
   "execution_count": 89,
   "metadata": {},
   "outputs": [
    {
     "name": "stdout",
     "output_type": "stream",
     "text": [
      "(284209,) (284209,)\n",
      "step 0, gini=0.535\n",
      "(284209,) (284209,)\n",
      "step 1, gini=0.888\n",
      "(284209,) (284209,)\n",
      "step 2, gini=0.939\n",
      "(284209,) (284209,)\n",
      "step 3, gini=0.955\n",
      "(284209,) (284209,)\n",
      "step 4, gini=0.965\n",
      "(284209,) (284209,)\n",
      "step 5, gini=0.971\n",
      "(284209,) (284209,)\n",
      "step 6, gini=0.974\n",
      "(284209,) (284209,)\n",
      "step 7, gini=0.977\n",
      "(284209,) (284209,)\n",
      "step 8, gini=0.979\n",
      "(284209,) (284209,)\n",
      "step 9, gini=0.981\n",
      "(284209,) (284209,)\n",
      "step 10, gini=0.980\n",
      "(284209,) (284209,)\n",
      "step 11, gini=0.982\n",
      "(284209,) (284209,)\n",
      "step 12, gini=0.982\n",
      "(284209,) (284209,)\n",
      "step 13, gini=0.983\n",
      "(284209,) (284209,)\n",
      "step 14, gini=0.983\n",
      "(284209,) (284209,)\n",
      "step 15, gini=0.984\n",
      "(284209,) (284209,)\n",
      "step 16, gini=0.984\n",
      "(284209,) (284209,)\n",
      "step 17, gini=0.984\n",
      "(284209,) (284209,)\n",
      "step 18, gini=0.985\n",
      "(284209,) (284209,)\n",
      "step 19, gini=0.986\n",
      "(284209,) (284209,)\n",
      "step 20, gini=0.986\n",
      "(284209,) (284209,)\n",
      "step 21, gini=0.986\n",
      "(284209,) (284209,)\n",
      "step 22, gini=0.987\n",
      "(284209,) (284209,)\n",
      "step 23, gini=0.987\n",
      "(284209,) (284209,)\n",
      "step 24, gini=0.986\n",
      "(284209,) (284209,)\n",
      "step 25, gini=0.987\n",
      "(284209,) (284209,)\n",
      "step 26, gini=0.988\n",
      "(284209,) (284209,)\n",
      "step 27, gini=0.989\n",
      "(284209,) (284209,)\n",
      "step 28, gini=0.989\n",
      "(284209,) (284209,)\n",
      "step 29, gini=0.988\n"
     ]
    }
   ],
   "source": [
    "num_epochs = 30\n",
    "path = '../../dev_datasets/faceimages/'\n",
    "fname = '20171222_163619.pickle'\n",
    "batch_size = 128\n",
    "\n",
    "with tf.Session() as sess:\n",
    "    sess.run(tf.global_variables_initializer())    \n",
    "    for i in range(num_epochs):\n",
    "        res_p = []\n",
    "        res_y = []\n",
    "        for (x, y) in generate_batches_from_file(path, fname, batch_size):\n",
    "            tx = x / 255.0 - 0.5\n",
    "            tf_train.run(feed_dict={tf_input: tx, tf_labels: y.reshape(-1, 1)})\n",
    "            tp = tf_p.eval(feed_dict={tf_input: tx})[:,0]\n",
    "            res_p.append(tp)\n",
    "            res_y.append(y)\n",
    "        full_p = np.hstack(res_p)\n",
    "        full_y = np.hstack(res_y)\n",
    "        print(full_y.shape, full_p.shape)\n",
    "        print('step {0}, gini={1:.3f}'.format(i, sklearn.metrics.roc_auc_score(full_y>0.5, full_p)*2-1))      "
   ]
  },
  {
   "cell_type": "code",
   "execution_count": 23,
   "metadata": {},
   "outputs": [],
   "source": [
    "full_y = np.hstack(res_y)\n",
    "full_p = np.hstack(res_p)"
   ]
  },
  {
   "cell_type": "code",
   "execution_count": 20,
   "metadata": {},
   "outputs": [
    {
     "data": {
      "text/plain": [
       "((284209,), (284209,))"
      ]
     },
     "execution_count": 20,
     "metadata": {},
     "output_type": "execute_result"
    }
   ],
   "source": [
    "full_y.shape, full_p.shape"
   ]
  },
  {
   "cell_type": "code",
   "execution_count": 33,
   "metadata": {},
   "outputs": [],
   "source": [
    "with open(os.path.join(path,fname), 'rb') as f:\n",
    "        sample, size_chain, img_fname = pickle.load(f)"
   ]
  },
  {
   "cell_type": "code",
   "execution_count": 73,
   "metadata": {},
   "outputs": [
    {
     "data": {
      "text/plain": [
       "0.9327632499270864"
      ]
     },
     "execution_count": 73,
     "metadata": {},
     "output_type": "execute_result"
    }
   ],
   "source": [
    "sklearn.metrics.roc_auc_score(full_y>0.5, full_p)*2-1"
   ]
  },
  {
   "cell_type": "code",
   "execution_count": 53,
   "metadata": {},
   "outputs": [],
   "source": [
    "def generate_prediction_map_2d(samples, probs):\n",
    "    num_dim = len(samples[0]) >> 1\n",
    "    mins = np.array([np.min([s[i * 2] for s in samples]) for i in range(num_dim)])\n",
    "    maxs = np.array([np.max([s[i * 2 + 1] for s in samples]) for i in range(num_dim)])\n",
    "    dims = maxs - mins\n",
    "    \n",
    "    sums = np.zeros(dims)\n",
    "    cnts = np.zeros(dims)\n",
    "    \n",
    "    for (s,p) in zip(samples, probs):\n",
    "        sums[s[0]:s[1],s[2]:s[3]] += p\n",
    "        cnts[s[0]:s[1],s[2]:s[3]] += 1\n",
    "        \n",
    "    return sums / cnts\n",
    "\n",
    "def generate_all_prediction_maps_2d(samples, probs):\n",
    "    def select_level(index):\n",
    "        ps = [probs[i] for i in range(len(samples)) if samples[i][0]==index]\n",
    "        return [s[1:] for s in samples if s[0] == index], ps\n",
    "    min_ind = min([s[0] for s in samples])\n",
    "    max_ind = max([s[0] for s in samples])\n",
    "    return [generate_prediction_map_2d(*select_level(i)) for i in range(min_ind, max_ind+1)]"
   ]
  },
  {
   "cell_type": "code",
   "execution_count": 54,
   "metadata": {},
   "outputs": [
    {
     "name": "stdout",
     "output_type": "stream",
     "text": [
      "[ 576 1024]\n",
      "[418 724]\n",
      "[303 512]\n",
      "[220 362]\n",
      "[159 256]\n",
      "[116 181]\n",
      "[ 84 128]\n",
      "[61 91]\n",
      "[44 64]\n",
      "[32 45]\n"
     ]
    }
   ],
   "source": [
    "pmaps = generate_all_prediction_maps_2d(sample, full_p)"
   ]
  },
  {
   "cell_type": "code",
   "execution_count": 67,
   "metadata": {},
   "outputs": [
    {
     "data": {
      "image/png": "[encoded data removed]",
      "text/plain": [
       "<matplotlib.figure.Figure at 0xd21b4805f8>"
      ]
     },
     "metadata": {},
     "output_type": "display_data"
    }
   ],
   "source": [
    "plt.imshow((pmaps[2].transpose()*255).astype(np.uint8))\n",
    "plt.show()"
   ]
  },
  {
   "cell_type": "code",
   "execution_count": 47,
   "metadata": {},
   "outputs": [
    {
     "data": {
      "text/plain": [
       "array([[[30., 30., 30.],\n",
       "        [ 0.,  0.,  0.]],\n",
       "\n",
       "       [[ 0.,  0.,  0.],\n",
       "        [ 0.,  0.,  0.]]])"
      ]
     },
     "execution_count": 47,
     "metadata": {},
     "output_type": "execute_result"
    }
   ],
   "source": []
  },
  {
   "cell_type": "code",
   "execution_count": null,
   "metadata": {},
   "outputs": [],
   "source": []
  }
 ],
 "metadata": {
  "kernelspec": {
   "display_name": "Python 3",
   "language": "python",
   "name": "python3"
  },
  "language_info": {
   "codemirror_mode": {
    "name": "ipython",
    "version": 3
   },
   "file_extension": ".py",
   "mimetype": "text/x-python",
   "name": "python",
   "nbconvert_exporter": "python",
   "pygments_lexer": "ipython3",
   "version": "3.6.4"
  }
 },
 "nbformat": 4,
 "nbformat_minor": 2
}
