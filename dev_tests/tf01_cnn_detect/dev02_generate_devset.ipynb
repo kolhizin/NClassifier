{
 "cells": [
  {
   "cell_type": "code",
   "execution_count": 1,
   "metadata": {},
   "outputs": [
    {
     "data": {
      "text/plain": [
       "<module 'utils.sampletools' from 'd:\\\\Programming\\\\NClassifier\\\\dev_tests\\\\tf01_cnn_detect\\\\utils\\\\sampletools.py'>"
      ]
     },
     "execution_count": 1,
     "metadata": {},
     "output_type": "execute_result"
    }
   ],
   "source": [
    "import numpy as np\n",
    "import matplotlib.pyplot as plt\n",
    "import cv2\n",
    "import pickle\n",
    "import os, os.path\n",
    "import importlib\n",
    "\n",
    "import utils.sampletools as smpl\n",
    "\n",
    "importlib.reload(smpl)"
   ]
  },
  {
   "cell_type": "code",
   "execution_count": 6,
   "metadata": {},
   "outputs": [],
   "source": [
    "def generate_batches_from_image_sample(image, sample, size_chain, batch_size):\n",
    "    mipimgs = smpl.generate_image_miplevels(image, size_chain,\n",
    "                    resize_function=lambda x, s:cv2.resize(x, dsize=(s[0], s[1])))\n",
    "    for s in smpl.shuffle_batches(sample, batch_size=batch_size):\n",
    "        features = smpl.extract_features_from_samples_and_mipmaps(s, mipimgs)\n",
    "        targets = smpl.extract_targets_from_samples(s)\n",
    "        yield (features, targets)\n",
    "        \n",
    "def generate_batches_from_file(path, fname, batch_size):\n",
    "    with open(os.path.join(path,fname), 'rb') as f:\n",
    "        sample, size_chain, img_fname = pickle.load(f)\n",
    "    image = cv2.cvtColor(cv2.imread(os.path.join(path,img_fname)), cv2.COLOR_BGR2RGB)\n",
    "    for s in generate_batches_from_image_sample(image, sample, size_chain, batch_size):\n",
    "        yield s"
   ]
  },
  {
   "cell_type": "code",
   "execution_count": 7,
   "metadata": {},
   "outputs": [
    {
     "name": "stdout",
     "output_type": "stream",
     "text": [
      "0 (4, 16, 16, 3) [0. 0. 0. 0.]\n",
      "1 (4, 16, 16, 3) [0. 0. 0. 0.]\n",
      "2 (4, 16, 16, 3) [0. 0. 0. 0.]\n",
      "3 (4, 16, 16, 3) [0. 0. 0. 0.]\n",
      "4 (4, 16, 16, 3) [0. 0. 0. 0.]\n",
      "5 (4, 16, 16, 3) [0. 0. 0. 0.]\n",
      "6 (4, 16, 16, 3) [0. 0. 0. 0.]\n",
      "7 (4, 16, 16, 3) [0. 0. 0. 0.]\n",
      "8 (4, 16, 16, 3) [0. 0. 0. 0.]\n",
      "9 (4, 16, 16, 3) [0. 0. 0. 0.]\n",
      "10 (4, 16, 16, 3) [0. 0. 0. 0.]\n",
      "11 (4, 16, 16, 3) [0. 0. 0. 0.]\n"
     ]
    }
   ],
   "source": [
    "path = '../../dev_datasets/pass_sample/'\n",
    "for (i, (x, y)) in enumerate(generate_batches_from_file(path, '01_pass_number_vertical.pickle', 4)):\n",
    "    print(i, x.shape, y)\n",
    "    if i > 10:\n",
    "        break"
   ]
  },
  {
   "cell_type": "code",
   "execution_count": null,
   "metadata": {},
   "outputs": [],
   "source": []
  }
 ],
 "metadata": {
  "kernelspec": {
   "display_name": "Python 3",
   "language": "python",
   "name": "python3"
  },
  "language_info": {
   "codemirror_mode": {
    "name": "ipython",
    "version": 3
   },
   "file_extension": ".py",
   "mimetype": "text/x-python",
   "name": "python",
   "nbconvert_exporter": "python",
   "pygments_lexer": "ipython3",
   "version": "3.6.1"
  }
 },
 "nbformat": 4,
 "nbformat_minor": 2
}
