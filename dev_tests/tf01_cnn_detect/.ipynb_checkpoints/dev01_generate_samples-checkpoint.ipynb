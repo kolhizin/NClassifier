{
 "cells": [
  {
   "cell_type": "code",
   "execution_count": 31,
   "metadata": {},
   "outputs": [
    {
     "data": {
      "text/plain": [
       "<module 'utils.sampletools' from 'd:\\\\Programming\\\\NClassifier\\\\dev_tests\\\\tf01_cnn_detect\\\\utils\\\\sampletools.py'>"
      ]
     },
     "execution_count": 31,
     "metadata": {},
     "output_type": "execute_result"
    }
   ],
   "source": [
    "import numpy as np\n",
    "import matplotlib.pyplot as plt\n",
    "import cv2\n",
    "import json, pickle\n",
    "import os, os.path\n",
    "import importlib\n",
    "\n",
    "import utils.sampletools as smpl\n",
    "\n",
    "importlib.reload(smpl)"
   ]
  },
  {
   "cell_type": "code",
   "execution_count": 2,
   "metadata": {},
   "outputs": [],
   "source": [
    "src_path = '../../dev_datasets/faceimages/'\n",
    "src_file = 'eye.json'"
   ]
  },
  {
   "cell_type": "code",
   "execution_count": 3,
   "metadata": {},
   "outputs": [],
   "source": [
    "with open(os.path.join(src_path, src_file), 'r') as f:\n",
    "    src_sample = json.load(f)"
   ]
  },
  {
   "cell_type": "code",
   "execution_count": 23,
   "metadata": {},
   "outputs": [],
   "source": [
    "def generate_sample_with_target(observation, path, max_size, min_size, size_step, sample_size, sample_stride):\n",
    "    def expand2tuple(x):\n",
    "        if type(x) in (tuple, list, np.ndarray):\n",
    "            return x\n",
    "        return (x, x)\n",
    "    \n",
    "    imgregions = [smpl.transform_npregion_to_imgregion(smpl.transform_region_to_npregion(x))\n",
    "                 for x in observation['regions']]\n",
    "    \n",
    "    fname = os.path.join(path, observation['imgName'])\n",
    "    img = cv2.imread(fname)\n",
    "    imgsize = (img.shape[1], img.shape[0])\n",
    "    \n",
    "    loc_max_size = expand2tuple(max_size)\n",
    "    loc_min_size = expand2tuple(min_size)\n",
    "    loc_size_step = expand2tuple(size_step)\n",
    "    loc_sample_size = expand2tuple(sample_size)\n",
    "    loc_sample_stride = expand2tuple(sample_stride)\n",
    "    \n",
    "    if imgsize[0] > loc_max_size[0] or imgsize[1] > loc_max_size[1]:\n",
    "        size_factor = min(loc_max_size[0] / imgsize[0], loc_max_size[1] / imgsize[1])\n",
    "        #deliberately floor in order not to exceed max_size\n",
    "        imgsize = (int(np.floor(imgsize[0] * size_factor)), int(np.floor(imgsize[1] * size_factor))) \n",
    "    samples = smpl.generate_sample_chain(imgsize, loc_min_size, loc_size_step, loc_sample_size, loc_sample_stride)\n",
    "    targets = smpl.calculate_sample_chain_target(samples, imgregions)\n",
    "    fullsample, size_chain = smpl.transform_sample_chain_to_linear_form(samples, targets)\n",
    "    return fullsample, size_chain, fname"
   ]
  },
  {
   "cell_type": "code",
   "execution_count": 32,
   "metadata": {},
   "outputs": [
    {
     "name": "stdout",
     "output_type": "stream",
     "text": [
      "Processed ../../dev_datasets/faceimages/20171222_163619.pickle\n",
      "Processed ../../dev_datasets/faceimages/20171222_163630.pickle\n",
      "Processed ../../dev_datasets/faceimages/20171222_163631.pickle\n",
      "Processed ../../dev_datasets/faceimages/20171222_163636.pickle\n",
      "Processed ../../dev_datasets/faceimages/20171222_163720.pickle\n",
      "Processed ../../dev_datasets/faceimages/20171222_163727.pickle\n"
     ]
    }
   ],
   "source": [
    "%%time\n",
    "path = '../../dev_datasets/faceimages/'\n",
    "\n",
    "for v in src_sample.values():\n",
    "    sample, size_chain, fname = generate_sample_with_target(v, path, max_size=1024, min_size=32, size_step=0.7071,\n",
    "                                                 sample_size=16, sample_stride=4)\n",
    "    sname = os.path.join(path,  '{}.pickle'.format(os.path.split(fname)[1].split('.')[0]))\n",
    "    with open(sname, 'wb') as f:\n",
    "        pickle.dump((sample, size_chain, fname), f)\n",
    "    print('Processed {}'.format(sname))"
   ]
  },
  {
   "cell_type": "code",
   "execution_count": null,
   "metadata": {},
   "outputs": [],
   "source": []
  }
 ],
 "metadata": {
  "kernelspec": {
   "display_name": "Python 3",
   "language": "python",
   "name": "python3"
  },
  "language_info": {
   "codemirror_mode": {
    "name": "ipython",
    "version": 3
   },
   "file_extension": ".py",
   "mimetype": "text/x-python",
   "name": "python",
   "nbconvert_exporter": "python",
   "pygments_lexer": "ipython3",
   "version": "3.6.4"
  }
 },
 "nbformat": 4,
 "nbformat_minor": 2
}
